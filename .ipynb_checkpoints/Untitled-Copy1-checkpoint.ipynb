{
 "cells": [
  {
   "cell_type": "code",
   "execution_count": 4,
   "metadata": {},
   "outputs": [
    {
     "name": "stdout",
     "output_type": "stream",
     "text": [
      "Overwriting app1.py\n"
     ]
    }
   ],
   "source": [
    "%%writefile app1.py\n",
    "import pandas as pd\n",
    "import numpy as np\n",
    "import string\n",
    "import re\n",
    "import pickle as pk\n",
    "from sklearn.feature_extraction.text import TfidfVectorizer\n",
    "from sklearn.naive_bayes import MultinomialNB as mn\n",
    "from sklearn.model_selection import train_test_split as tts\n",
    "import streamlit as st"
   ]
  },
  {
   "cell_type": "code",
   "execution_count": null,
   "metadata": {},
   "outputs": [],
   "source": [
    "%%writefile app1.py\n",
    "import pandas as pd\n",
    "import numpy as np\n",
    "import string\n",
    "import re\n",
    "import pickle as pk\n",
    "from sklearn.feature_extraction.text import TfidfVectorizer\n",
    "from sklearn.naive_bayes import MultinomialNB as mn\n",
    "from sklearn.model_selection import train_test_split as tts\n",
    "import streamlit as st\n",
    "\n",
    "data = pd.read_csv('imdb.csv', delimiter = ',')\n",
    "reviews = data['review']\n",
    "target = data['sentiment']\n",
    "keys = {0: 'negative', 1: 'positive'}\n",
    "\n",
    "def clean(data):\n",
    "    \n",
    "    clean_data = []\n",
    "    punc = list(string.punctuation)\n",
    "    for line in data:\n",
    "        words = []\n",
    "        for word in line.split():\n",
    "            #removing punctuations (like @ or #)\n",
    "            t = [w for w in word if w not in punc]\n",
    "            word = \"\".join(t)\n",
    "            #removing numbers\n",
    "            word = re.sub(r\"\\d+\", \"\", word)\n",
    "            #removing URLs\n",
    "            word = re.sub(r'https?\\S+', '', word)\n",
    "            word = word.lower()\n",
    "            \n",
    "            if(len(word) > 2):\n",
    "                words.append(word)\n",
    "                \n",
    "        clean_data.append(\" \".join(words))\n",
    "    \n",
    "    return clean_data\n",
    "\n",
    "#As this takes a while to run, the list was saved and laoded directly\n",
    "\n",
    "#clean_words = clean(reviews)\n",
    "'''f = open('clean', 'wb')\n",
    "pk.dump(clean_words, f)\n",
    "f.close()'''\n",
    "\n",
    "f = open('clean', 'rb')\n",
    "clean_words = pk.load(f)\n",
    "f.close()\n",
    "\n",
    "Y = np.array(target == 'positive', dtype = np.int32)\n",
    "\n",
    "\n",
    "cv = TfidfVectorizer(max_features = 50000, max_df = 0.5, ngram_range = (1, 3))\n",
    "freq = cv.fit_transform(clean_words).todense()\n",
    "clf = mn()\n",
    "clf.fit(freq, Y_train)\n",
    "\n",
    "st.title(\"Spam Ham Message Classifier\")\n",
    "st.subheader('TFIFD Vectorizer')\n",
    "st.write('This project is based on Naive Bayes Classifier')\n",
    "message = st.text_area(\"Enter Text\",\"Type Here ..\")\n",
    "test_val = cv.transform([message])\n",
    "pred = clf.predict(test_val)\n",
    "if st.button(\"Predict\"):\n",
    "    st.title(keys[pred])"
   ]
  },
  {
   "cell_type": "markdown",
   "metadata": {},
   "source": [
    "## LOADING DATA"
   ]
  },
  {
   "cell_type": "code",
   "execution_count": 5,
   "metadata": {},
   "outputs": [
    {
     "ename": "NameError",
     "evalue": "name 'pd' is not defined",
     "output_type": "error",
     "traceback": [
      "\u001b[1;31m---------------------------------------------------------------------------\u001b[0m",
      "\u001b[1;31mNameError\u001b[0m                                 Traceback (most recent call last)",
      "\u001b[1;32m<ipython-input-5-2676eb139de0>\u001b[0m in \u001b[0;36m<module>\u001b[1;34m\u001b[0m\n\u001b[1;32m----> 1\u001b[1;33m \u001b[0mdata\u001b[0m \u001b[1;33m=\u001b[0m \u001b[0mpd\u001b[0m\u001b[1;33m.\u001b[0m\u001b[0mread_csv\u001b[0m\u001b[1;33m(\u001b[0m\u001b[1;34m'imdb.csv'\u001b[0m\u001b[1;33m,\u001b[0m \u001b[0mdelimiter\u001b[0m \u001b[1;33m=\u001b[0m \u001b[1;34m','\u001b[0m\u001b[1;33m)\u001b[0m\u001b[1;33m\u001b[0m\u001b[1;33m\u001b[0m\u001b[0m\n\u001b[0m",
      "\u001b[1;31mNameError\u001b[0m: name 'pd' is not defined"
     ]
    }
   ],
   "source": [
    "data = pd.read_csv('imdb.csv', delimiter = ',')"
   ]
  },
  {
   "cell_type": "code",
   "execution_count": 6,
   "metadata": {},
   "outputs": [
    {
     "ename": "NameError",
     "evalue": "name 'data' is not defined",
     "output_type": "error",
     "traceback": [
      "\u001b[1;31m---------------------------------------------------------------------------\u001b[0m",
      "\u001b[1;31mNameError\u001b[0m                                 Traceback (most recent call last)",
      "\u001b[1;32m<ipython-input-6-c5d84736ba45>\u001b[0m in \u001b[0;36m<module>\u001b[1;34m\u001b[0m\n\u001b[1;32m----> 1\u001b[1;33m \u001b[0mdata\u001b[0m\u001b[1;33m\u001b[0m\u001b[1;33m\u001b[0m\u001b[0m\n\u001b[0m",
      "\u001b[1;31mNameError\u001b[0m: name 'data' is not defined"
     ]
    }
   ],
   "source": [
    "data"
   ]
  },
  {
   "cell_type": "code",
   "execution_count": null,
   "metadata": {},
   "outputs": [],
   "source": [
    "reviews = data['review']\n",
    "target = data['sentiment']\n",
    "keys = {0: 'negative', 1: 'positive'}"
   ]
  },
  {
   "cell_type": "markdown",
   "metadata": {},
   "source": [
    "## PREPROCESSING DATA"
   ]
  },
  {
   "cell_type": "code",
   "execution_count": null,
   "metadata": {},
   "outputs": [],
   "source": [
    "def clean(data):\n",
    "    \n",
    "    clean_data = []\n",
    "    punc = list(string.punctuation)\n",
    "    for line in data:\n",
    "        words = []\n",
    "        for word in line.split():\n",
    "            #removing punctuations (like @ or #)\n",
    "            t = [w for w in word if w not in punc]\n",
    "            word = \"\".join(t)\n",
    "            #removing numbers\n",
    "            word = re.sub(r\"\\d+\", \"\", word)\n",
    "            #removing URLs\n",
    "            word = re.sub(r'https?\\S+', '', word)\n",
    "            word = word.lower()\n",
    "            \n",
    "            if(len(word) > 2):\n",
    "                words.append(word)\n",
    "                \n",
    "        clean_data.append(\" \".join(words))\n",
    "    \n",
    "    return clean_data"
   ]
  },
  {
   "cell_type": "code",
   "execution_count": null,
   "metadata": {},
   "outputs": [],
   "source": [
    "#As this takes a while to run, the list was saved and laoded directly\n",
    "\n",
    "#clean_words = clean(reviews)\n",
    "'''f = open('clean', 'wb')\n",
    "pk.dump(clean_words, f)\n",
    "f.close()'''\n",
    "\n",
    "f = open('clean', 'rb')\n",
    "clean_words = pk.load(f)\n",
    "f.close()"
   ]
  },
  {
   "cell_type": "code",
   "execution_count": null,
   "metadata": {},
   "outputs": [],
   "source": [
    "Y = np.array(target == 'positive', dtype = np.int32)"
   ]
  },
  {
   "cell_type": "markdown",
   "metadata": {},
   "source": [
    "### SPLITTING THE DATA"
   ]
  },
  {
   "cell_type": "code",
   "execution_count": null,
   "metadata": {},
   "outputs": [],
   "source": [
    "X_train, X_test, Y_train, Y_test = tts(clean_words, Y, test_size = 0.1)"
   ]
  },
  {
   "cell_type": "markdown",
   "metadata": {},
   "source": [
    "## USING TFIDF VECTORIZER AND TRAINING USING MULTINOMIAL NB"
   ]
  },
  {
   "cell_type": "code",
   "execution_count": null,
   "metadata": {},
   "outputs": [],
   "source": [
    "cv = TfidfVectorizer(max_features = 50000, max_df = 0.5, ngram_range = (1, 3))\n",
    "freq = cv.fit_transform(X_train).todense()"
   ]
  },
  {
   "cell_type": "code",
   "execution_count": null,
   "metadata": {},
   "outputs": [],
   "source": [
    "clf = mn()\n",
    "clf.fit(freq, Y_train)"
   ]
  },
  {
   "cell_type": "markdown",
   "metadata": {},
   "source": [
    "### TESTING ON SPLIT DATA"
   ]
  },
  {
   "cell_type": "code",
   "execution_count": null,
   "metadata": {},
   "outputs": [],
   "source": [
    "freq_test = cv.transform(X_test)\n",
    "clf.score(freq_test, Y_test)"
   ]
  },
  {
   "cell_type": "markdown",
   "metadata": {},
   "source": [
    "## TESTING ON USER INPUT"
   ]
  },
  {
   "cell_type": "code",
   "execution_count": null,
   "metadata": {},
   "outputs": [],
   "source": [
    "st.title(\"Spam Ham Message Classifier\")\n",
    "st.subheader('TFIFD Vectorizer')\n",
    "st.write('This project is based on Naive Bayes Classifier')\n",
    "message = st.text_area(\"Enter Text\",\"Type Here ..\")\n",
    "test_val = cv.transform([message])\n",
    "pred = clf.predict(test_val)\n",
    "if st.button(\"Predict\"):\n",
    "    st.title(keys[pred])"
   ]
  },
  {
   "cell_type": "code",
   "execution_count": null,
   "metadata": {},
   "outputs": [],
   "source": [
    "!streamlit run app1.py"
   ]
  },
  {
   "cell_type": "code",
   "execution_count": 2,
   "metadata": {},
   "outputs": [
    {
     "name": "stdout",
     "output_type": "stream",
     "text": [
      "Requirement already satisfied: pyngrok in c:\\users\\anike\\anaconda3\\lib\\site-packages (4.1.13)\n",
      "Requirement already satisfied: future in c:\\users\\anike\\anaconda3\\lib\\site-packages (from pyngrok) (0.17.1)\n",
      "Requirement already satisfied: PyYAML in c:\\users\\anike\\anaconda3\\lib\\site-packages (from pyngrok) (5.1.2)\n"
     ]
    }
   ],
   "source": []
  },
  {
   "cell_type": "code",
   "execution_count": 3,
   "metadata": {},
   "outputs": [
    {
     "name": "stdout",
     "output_type": "stream",
     "text": [
      "                                                                                                    \r"
     ]
    },
    {
     "data": {
      "text/plain": [
       "'http://9a9c182c0176.ngrok.io'"
      ]
     },
     "execution_count": 3,
     "metadata": {},
     "output_type": "execute_result"
    }
   ],
   "source": [
    "from pyngrok import ngrok\n",
    "url = ngrok.connect(port='8501')\n",
    "url"
   ]
  },
  {
   "cell_type": "code",
   "execution_count": null,
   "metadata": {},
   "outputs": [],
   "source": []
  }
 ],
 "metadata": {
  "kernelspec": {
   "display_name": "Python 3",
   "language": "python",
   "name": "python3"
  },
  "language_info": {
   "codemirror_mode": {
    "name": "ipython",
    "version": 3
   },
   "file_extension": ".py",
   "mimetype": "text/x-python",
   "name": "python",
   "nbconvert_exporter": "python",
   "pygments_lexer": "ipython3",
   "version": "3.7.4"
  }
 },
 "nbformat": 4,
 "nbformat_minor": 2
}
